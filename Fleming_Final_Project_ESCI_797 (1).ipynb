{
 "cells": [
  {
   "cell_type": "code",
   "execution_count": 11,
   "id": "c4a53047",
   "metadata": {
    "scrolled": true
   },
   "outputs": [
    {
     "ename": "SyntaxError",
     "evalue": "invalid syntax (3632963076.py, line 5)",
     "output_type": "error",
     "traceback": [
      "\u001b[1;36m  Cell \u001b[1;32mIn[11], line 5\u001b[1;36m\u001b[0m\n\u001b[1;33m    @author = Andrew Fleming for ESCI 7/896.02\u001b[0m\n\u001b[1;37m            ^\u001b[0m\n\u001b[1;31mSyntaxError\u001b[0m\u001b[1;31m:\u001b[0m invalid syntax\n"
     ]
    }
   ],
   "source": [
    "# Investigating Snowfall and its Reltion to Droughts\n",
    "# Notebook to demonstrate the correlation between wintertime snowfall and summertime droughts in Colorado\n",
    "\n",
    "\n",
    "@author = Andrew Fleming for ESCI 7/896.02  \n",
    "@date = 2023-03-29  \n",
    "@license = MIT -- https://opensource.org/licenses/MIT\n"
   ]
  },
  {
   "cell_type": "code",
   "execution_count": null,
   "id": "e6cd7e76",
   "metadata": {},
   "outputs": [],
   "source": [
    "# In regions located aroiund the Rocky mountains snowfall plays a major role in the hydrologic cycle.\n",
    "#These regions also have trouble in the summertime with water supply and often times they expereinec droughts.\n",
    "\n",
    "# This study will forcus around investigating whether or not there is a correlation between snowfall quantity and \n",
    "#drought intesity/frequency.\n",
    "\n",
    "# Many parts of the U.S. rely on snowmelt for water resoruces. Snowmelt from the Rocky mountains \n",
    "#often makes its way to the Colorado River or another major aqauduct, so understanding how much \n",
    "#and when snow melts off can predict when droughst are likely to occur.\n"
   ]
  },
  {
   "cell_type": "code",
   "execution_count": 12,
   "id": "56e759f5",
   "metadata": {},
   "outputs": [],
   "source": [
    "#Import Libraies\n",
    "import os\n",
    "import pandas as pd\n",
    "from scipy import stats\n",
    "import matplotlib.pyplot as plt\n",
    "import numpy as np\n"
   ]
  },
  {
   "cell_type": "code",
   "execution_count": 13,
   "id": "16b6e448",
   "metadata": {},
   "outputs": [],
   "source": [
    "#%%Load in Snowfall data from 1997-2022\n",
    "\n",
    "#Data is given in precipitation and in SWE(snow water equivalent) both of which are converted to centimeters"
   ]
  },
  {
   "cell_type": "code",
   "execution_count": 14,
   "id": "92ddbc5a",
   "metadata": {},
   "outputs": [
    {
     "ename": "FileNotFoundError",
     "evalue": "[WinError 3] The system cannot find the path specified: 'Snow data'",
     "output_type": "error",
     "traceback": [
      "\u001b[1;31m---------------------------------------------------------------------------\u001b[0m",
      "\u001b[1;31mFileNotFoundError\u001b[0m                         Traceback (most recent call last)",
      "Cell \u001b[1;32mIn[14], line 31\u001b[0m\n\u001b[0;32m     28\u001b[0m     data_snow \u001b[38;5;241m=\u001b[39m data_snow[[\u001b[38;5;124m'\u001b[39m\u001b[38;5;124mSWE_cm\u001b[39m\u001b[38;5;124m'\u001b[39m,\u001b[38;5;124m'\u001b[39m\u001b[38;5;124mPrecip_cm\u001b[39m\u001b[38;5;124m'\u001b[39m]]\n\u001b[0;32m     29\u001b[0m     \u001b[38;5;28;01mreturn\u001b[39;00m data_snow\n\u001b[1;32m---> 31\u001b[0m filenames \u001b[38;5;241m=\u001b[39m \u001b[43mos\u001b[49m\u001b[38;5;241;43m.\u001b[39;49m\u001b[43mlistdir\u001b[49m\u001b[43m(\u001b[49m\u001b[43msubfolder1_name\u001b[49m\u001b[43m)\u001b[49m\n\u001b[0;32m     32\u001b[0m \u001b[38;5;28;01mif\u001b[39;00m \u001b[38;5;124m'\u001b[39m\u001b[38;5;124mdata_snow\u001b[39m\u001b[38;5;124m'\u001b[39m \u001b[38;5;129;01min\u001b[39;00m \u001b[38;5;28mglobals\u001b[39m():\n\u001b[0;32m     33\u001b[0m     \u001b[38;5;28;01mdel\u001b[39;00m data_snow\n",
      "\u001b[1;31mFileNotFoundError\u001b[0m: [WinError 3] The system cannot find the path specified: 'Snow data'"
     ]
    }
   ],
   "source": [
    "#Specify folder name and variable names\n",
    "subfolder1_name = 'Snow data'\n",
    "\n",
    "#Create function\n",
    "def readscan(filename):\n",
    "    #read files\n",
    "    data_snow = pd.read_csv(filename, header = 1, na_values = [-99.9], \n",
    "                   parse_dates=['Date'], index_col='Date')\n",
    "    #Rename columns\n",
    "    data_snow = data_snow.rename(columns={'WTEQ.I-1 (in) ': 'SWE_in','PREC.I-1 (in) ': 'Precip_in'})\n",
    "       \n",
    "    #Only have integrated data_snow so take difference for daily values\n",
    "    data_snow['Precip_in']=data_snow['Precip_in'].diff()\n",
    "    data_snow['SWE_in']=data_snow['SWE_in'].diff()\n",
    "    \n",
    "    #resample\n",
    "    data_snow = data_snow.resample('D').mean(numeric_only=True)\n",
    "   \n",
    "    #Convert to cm \n",
    "    data_snow['Precip_cm'] = data_snow['Precip_in']*2.54\n",
    "    data_snow['SWE_cm'] = data_snow['SWE_in']*2.54\n",
    "   \n",
    "    #replace negaive values with nan\n",
    "    data_snow.loc[data_snow['Precip_cm']<0,'Precip_cm'] = np.nan\n",
    "    data_snow.loc[data_snow['SWE_cm']<0,'SWE_cm'] = np.nan\n",
    "    \n",
    "    #Deleat unwanted columns\n",
    "    data_snow = data_snow[['SWE_cm','Precip_cm']]\n",
    "    return data_snow\n",
    "\n",
    "filenames = os.listdir(subfolder1_name)\n",
    "if 'data_snow' in globals():\n",
    "    del data_snow\n",
    "    \n",
    "for filename in filenames:\n",
    "    data_snow_small=readscan(subfolder1_name+ '\\\\' + filename)\n",
    "    try:\n",
    "        data_snow= pd.concat([data_snow,data_snow_small])\n",
    "    except:\n",
    "        data_snow= data_snow_small"
   ]
  },
  {
   "cell_type": "code",
   "execution_count": null,
   "id": "7283d6e7",
   "metadata": {},
   "outputs": [],
   "source": [
    "#%%Load in Soil Moisture data from 1997-2022"
   ]
  },
  {
   "cell_type": "code",
   "execution_count": 7,
   "id": "045f2e4a",
   "metadata": {},
   "outputs": [
    {
     "ename": "FileNotFoundError",
     "evalue": "[WinError 3] The system cannot find the path specified: 'Soil data'",
     "output_type": "error",
     "traceback": [
      "\u001b[1;31m---------------------------------------------------------------------------\u001b[0m",
      "\u001b[1;31mFileNotFoundError\u001b[0m                         Traceback (most recent call last)",
      "Cell \u001b[1;32mIn[7], line 25\u001b[0m\n\u001b[0;32m     22\u001b[0m     data_sm \u001b[38;5;241m=\u001b[39m data_sm[[\u001b[38;5;124m'\u001b[39m\u001b[38;5;124mSM5\u001b[39m\u001b[38;5;124m'\u001b[39m,\u001b[38;5;124m'\u001b[39m\u001b[38;5;124mSM10\u001b[39m\u001b[38;5;124m'\u001b[39m,\u001b[38;5;124m'\u001b[39m\u001b[38;5;124mSM20\u001b[39m\u001b[38;5;124m'\u001b[39m,\u001b[38;5;124m'\u001b[39m\u001b[38;5;124mSM50\u001b[39m\u001b[38;5;124m'\u001b[39m,\u001b[38;5;124m'\u001b[39m\u001b[38;5;124mSM100\u001b[39m\u001b[38;5;124m'\u001b[39m]]\n\u001b[0;32m     23\u001b[0m     \u001b[38;5;28;01mreturn\u001b[39;00m data_sm\n\u001b[1;32m---> 25\u001b[0m filenames \u001b[38;5;241m=\u001b[39m \u001b[43mos\u001b[49m\u001b[38;5;241;43m.\u001b[39;49m\u001b[43mlistdir\u001b[49m\u001b[43m(\u001b[49m\u001b[43msubfolder2_name\u001b[49m\u001b[43m)\u001b[49m\n\u001b[0;32m     27\u001b[0m \u001b[38;5;28;01mfor\u001b[39;00m filename \u001b[38;5;129;01min\u001b[39;00m filenames:\n\u001b[0;32m     28\u001b[0m     data_sm_small\u001b[38;5;241m=\u001b[39mreadscan(subfolder2_name\u001b[38;5;241m+\u001b[39m \u001b[38;5;124m'\u001b[39m\u001b[38;5;130;01m\\\\\u001b[39;00m\u001b[38;5;124m'\u001b[39m \u001b[38;5;241m+\u001b[39m filename)\n",
      "\u001b[1;31mFileNotFoundError\u001b[0m: [WinError 3] The system cannot find the path specified: 'Soil data'"
     ]
    }
   ],
   "source": [
    "#Specify folder name and variable names\n",
    "subfolder2_name = 'Soil data'\n",
    "\n",
    "#Create function\n",
    "def readscan(filename):\n",
    "    #read files\n",
    "    data_sm = pd.read_csv(filename, header = 1, na_values = [-99.9], \n",
    "                   parse_dates=['Date'], index_col='Date')\n",
    "    #Rename columns\n",
    "    data_sm = data_sm.rename(columns={'SMS.I-1:-2 (pct)  (loam)': 'SM5',\n",
    "                                'SMS.I-1:-4 (pct)  (loam)': 'SM10','SMS.I-1:-8 (pct)  (loam)': 'SM20',\n",
    "                                'SMS.I-1:-20 (pct)  (loam)': 'SM50','SMS.I-1:-40 (pct)  (loam)': 'SM100'})\n",
    "    \n",
    "    #Replace negatives with nan\n",
    "    data_sm.loc[data_sm['SM50']<0,'SM50'] = np.nan\n",
    "    data_sm.loc[data_sm['SM100']<0,'SM100'] = np.nan\n",
    "    \n",
    "    #resample\n",
    "    data_sm = data_sm.resample('D').mean(numeric_only=True)\n",
    "\n",
    "    data_sm = data_sm[['SM5','SM10','SM20','SM50','SM100']]\n",
    "    return data_sm\n",
    "\n",
    "filenames = os.listdir(subfolder2_name)\n",
    "\n",
    "for filename in filenames:\n",
    "    data_sm_small=readscan(subfolder2_name+ '\\\\' + filename)\n",
    "    try:\n",
    "        data_sm= pd.concat([data_sm,data_sm_small])\n",
    "    except:\n",
    "        data_sm= data_sm_small\n",
    "\n",
    "#Fill in Missing data\n",
    "data_sm['SM5'] = data_sm['SM5'].fillna(data_sm['SM10'])\n",
    "data_sm['SM10'] = data_sm['SM10'].fillna((data_sm['SM5'] +data_sm['SM20'])/2)\n",
    "data_sm['SM20'] = data_sm['SM20'].fillna((data_sm['SM10'] +data_sm['SM50'])/2)\n",
    "data_sm['SM50'] = data_sm['SM50'].fillna((data_sm['SM20'] +data_sm['SM100'])/2)\n",
    "data_sm['SM100'] = data_sm['SM100'].fillna(data_sm['SM50'])"
   ]
  },
  {
   "cell_type": "code",
   "execution_count": 8,
   "id": "434edc1c",
   "metadata": {},
   "outputs": [],
   "source": [
    "#%% Creating a time series plot for the snow data over the study period\n"
   ]
  },
  {
   "cell_type": "code",
   "execution_count": 9,
   "id": "6b7af423",
   "metadata": {},
   "outputs": [
    {
     "ename": "NameError",
     "evalue": "name 'data_snow' is not defined",
     "output_type": "error",
     "traceback": [
      "\u001b[1;31m---------------------------------------------------------------------------\u001b[0m",
      "\u001b[1;31mNameError\u001b[0m                                 Traceback (most recent call last)",
      "Cell \u001b[1;32mIn[9], line 5\u001b[0m\n\u001b[0;32m      2\u001b[0m fig1, ax \u001b[38;5;241m=\u001b[39m plt\u001b[38;5;241m.\u001b[39msubplots()\n\u001b[0;32m      4\u001b[0m \u001b[38;5;66;03m# Plot another data series\u001b[39;00m\n\u001b[1;32m----> 5\u001b[0m ax\u001b[38;5;241m.\u001b[39mplot(\u001b[43mdata_snow\u001b[49m[\u001b[38;5;124m'\u001b[39m\u001b[38;5;124mPrecip_cm\u001b[39m\u001b[38;5;124m'\u001b[39m],  \u001b[38;5;66;03m# x = 1st series, y = 2nd series)\u001b[39;00m\n\u001b[0;32m      6\u001b[0m         \u001b[38;5;124m'\u001b[39m\u001b[38;5;124mb--\u001b[39m\u001b[38;5;124m'\u001b[39m,                            \u001b[38;5;66;03m# Line Format\u001b[39;00m\n\u001b[0;32m      7\u001b[0m         label \u001b[38;5;241m=\u001b[39m \u001b[38;5;124m'\u001b[39m\u001b[38;5;124mPrecipitation\u001b[39m\u001b[38;5;124m'\u001b[39m)         \u001b[38;5;66;03m# series label for legend\u001b[39;00m\n\u001b[0;32m      9\u001b[0m \u001b[38;5;66;03m# Plot one data series \u001b[39;00m\n\u001b[0;32m     10\u001b[0m ax\u001b[38;5;241m.\u001b[39mplot(data_snow[\u001b[38;5;124m'\u001b[39m\u001b[38;5;124mSWE_cm\u001b[39m\u001b[38;5;124m'\u001b[39m],  \u001b[38;5;66;03m# x = 1st series, y = 2nd series)\u001b[39;00m\n\u001b[0;32m     11\u001b[0m         \u001b[38;5;124m'\u001b[39m\u001b[38;5;124mk-\u001b[39m\u001b[38;5;124m'\u001b[39m,                           \u001b[38;5;66;03m# Line Format\u001b[39;00m\n\u001b[0;32m     12\u001b[0m         label \u001b[38;5;241m=\u001b[39m \u001b[38;5;124m'\u001b[39m\u001b[38;5;124mSWE\u001b[39m\u001b[38;5;124m'\u001b[39m)       \u001b[38;5;66;03m# series label for legend\u001b[39;00m\n",
      "\u001b[1;31mNameError\u001b[0m: name 'data_snow' is not defined"
     ]
    },
    {
     "data": {
      "image/png": "[encoded data removed]",
      "text/plain": [
       "<Figure size 640x480 with 1 Axes>"
      ]
     },
     "metadata": {},
     "output_type": "display_data"
    }
   ],
   "source": [
    "# Create plot \n",
    "fig1, ax = plt.subplots()\n",
    "\n",
    "# Plot another data series\n",
    "ax.plot(data_snow['Precip_cm'],  # x = 1st series, y = 2nd series)\n",
    "        'b--',                            # Line Format\n",
    "        label = 'Precipitation')         # series label for legend\n",
    "\n",
    "# Plot one data series \n",
    "ax.plot(data_snow['SWE_cm'],  # x = 1st series, y = 2nd series)\n",
    "        'k-',                           # Line Format\n",
    "        label = 'SWE')       # series label for legend\n",
    "\n",
    "\n",
    "# Add plot components \n",
    "ax.set_xlabel('Year')         # x-axis label \n",
    "ax.set_ylabel('cm')          # y-axis label\n",
    "ax.set_title('Precipitation and SWE') # figure title\n",
    "ax.legend()                                   # legend\n",
    "\n",
    "# Optional command to make x-tick labels diagonal to avoid overlap\n",
    "fig1.autofmt_xdate()  "
   ]
  },
  {
   "cell_type": "code",
   "execution_count": 10,
   "id": "bfbc2093",
   "metadata": {},
   "outputs": [],
   "source": [
    "#%% Create a time series plot for soil moisture data over the desired study period"
   ]
  },
  {
   "cell_type": "code",
   "execution_count": null,
   "id": "9fece3c4",
   "metadata": {},
   "outputs": [],
   "source": [
    "#%%Create Time Series Plot for SM\n",
    "\n",
    "# Create plot \n",
    "fig2, ax2 = plt.subplots()\n",
    "\n",
    "# Plot another data series\n",
    "ax2.plot(data_sm['SM5'],  # x = 1st series, y = 2nd series)\n",
    "        'b',                            # Line Format\n",
    "        label = '5cm')         # series label for legend\n",
    "\n",
    "ax2.plot(data_sm['SM10'],  # x = 1st series, y = 2nd series)\n",
    "        'r',                            # Line Format\n",
    "        label = '10cm')         # series label for legend\n",
    "\n",
    "ax2.plot(data_sm['SM20'],  # x = 1st series, y = 2nd series)\n",
    "        'k',                            # Line Format\n",
    "        label = '20cm')         # series label for legend\n",
    "\n",
    "ax2.plot(data_sm['SM50'],  # x = 1st series, y = 2nd series)\n",
    "        'g',                            # Line Format\n",
    "        label = '50cm')         # series label for legend\n",
    "\n",
    "ax2.plot(data_sm['SM100'],  # x = 1st series, y = 2nd series)\n",
    "        'y',                            # Line Format\n",
    "        label = '100cm')         # series label for legend\n",
    "\n",
    "\n",
    "# Add plot components \n",
    "ax2.set_xlabel('Year')         # x-axis label \n",
    "ax2.set_ylabel('centimeters')          # y-axis label\n",
    "ax2.set_title('Soil Moisture') # figure title\n",
    "ax2.legend()                                   # legend\n",
    "\n",
    "# Optional command to make x-tick labels diagonal to avoid overlap\n",
    "fig2.autofmt_xdate() \n"
   ]
  },
  {
   "cell_type": "code",
   "execution_count": null,
   "id": "9e3c7bf0",
   "metadata": {},
   "outputs": [],
   "source": [
    "#Condense Snow data to winter months only (DJFM)\n",
    "#Condense soil moisture data to summer months only (JJAS)"
   ]
  },
  {
   "cell_type": "code",
   "execution_count": null,
   "id": "6097daaa",
   "metadata": {},
   "outputs": [],
   "source": [
    "#Create plots comparing variables"
   ]
  },
  {
   "cell_type": "code",
   "execution_count": null,
   "id": "d5187635",
   "metadata": {},
   "outputs": [],
   "source": [
    "#calculate correlation factors"
   ]
  }
 ],
 "metadata": {
  "kernelspec": {
   "display_name": "Python 3 (ipykernel)",
   "language": "python",
   "name": "python3"
  },
  "language_info": {
   "codemirror_mode": {
    "name": "ipython",
    "version": 3
   },
   "file_extension": ".py",
   "mimetype": "text/x-python",
   "name": "python",
   "nbconvert_exporter": "python",
   "pygments_lexer": "ipython3",
   "version": "3.9.16"
  }
 },
 "nbformat": 4,
 "nbformat_minor": 5
}
